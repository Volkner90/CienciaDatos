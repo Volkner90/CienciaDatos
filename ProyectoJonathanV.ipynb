{
 "cells": [
  {
   "attachments": {},
   "cell_type": "markdown",
   "metadata": {},
   "source": [
    "#### Nombre del Alumno:  Jonathan Cuevas Valencia   \n",
    "#### Correo: jonathan.cuevas.valencia@intel.com\n"
   ]
  },
  {
   "cell_type": "markdown",
   "metadata": {},
   "source": [
    "#### Explicación de los Datos:\n",
    "**MiBici** es un servicio de transporte público en la Zona Metropolitana de Guadalajara, el cual está basado en una red de estaciones automáticas donde el usuario registrado puede tomar y/o dejar una bicicleta. El servicio está disponible todos los días, de las 6:00 a las 23:59 hrs.\n",
    "\n",
    "<br>\n",
    "<img src=\"./Imagenes/mibici_logo.png\" style=\"width:268px;height:70px;\" class=\"center\">\n",
    "<br>\n",
    "\n",
    "El portal de **MiBici** contiene información detallada de los viajes realizados desde el año 2014 a la fecha, todo ello en archivos en formato `.CSV` separados por meses, los cuales pueden consultarse [en esta liga.](https://www.mibici.net/es/datos-abiertos)\n",
    "\n",
    "Se desea realizar un análisis de los primeros seis meses de 2023, para ello se proporcionan los archivos en formato `.CSV`. Cada uno de ellos contiene las mismas columnas de información, y los datos se han limitado a 1,000 entradas en cada archivo para simplificar la cantidad de información disponible para esta evaluación.\n",
    "\n",
    "Las columnas de información en cada uno de los archivos son:\n",
    "\n",
    "1. **ID Viaje**: Es el número de identificación del viaje.\n",
    "2. **ID Usuario**: Es el número de identificación del usuario.\n",
    "3. **Género**: Es el género (*F/M*) del usuario.\n",
    "4. **Año de Nacimiento**: Es el año de nacimiento del usuario.\n",
    "5. **Fecha Inicio Viaje**: Es la fecha en la que se inició el viaje realizado.\n",
    "6. **Hora Inicio Viaje**: Es la hora en la que se inició el viaje realizado.\n",
    "7. **Fecha Fin Viaje**: Es la fecha en la que se concluyó el viaje realizado.\n",
    "8. **Hora Fin Viaje**: Es la hora en la que se concluyó el viaje realizado.\n",
    "9. **ID Origen**: Es el identificador de la estación desde donde se originó el viaje.\n",
    "10. **ID Destino**: Es el identificador de la estación donde se concluyó el viaje.\n",
    "\n",
    "Los archivos contenidos en el directorio `Datos` son:\n",
    "\n",
    "* El archivo `2023_01.csv` corresponde al mes de enero de 2023.\n",
    "* El archivo `2023_02.csv` corresponde al mes de febrero de 2023.\n",
    "* El archivo `2023_03.csv` corresponde al mes de marzo de 2023.\n",
    "* El archivo `2023_04.csv` corresponde al mes de abril de 2023.\n",
    "* El archivo `2023_05.csv` corresponde al mes de mayo de 2023.\n",
    "* El archivo `2023_06.csv` corresponde al mes de junio de 2023.\n",
    "* El archivo `Estaciones.csv` corresponde al nombre de las Estaciones y su localización.\n",
    "\n"
   ]
  },
  {
   "cell_type": "markdown",
   "metadata": {},
   "source": [
    "Comence cargando las librerías **Pandas**, **Numpy** y **Matplotlib**. Posteriormente, se creo un **DataFrame** donde se inserten a través de una concatenación los seis archivos `.CSV` de datos de **MiBici** correspondientes a los meses de enero a junio de 2023, mostrando el contenido del **DataFrame** final a través del método `.head()`."
   ]
  },
  {
   "cell_type": "code",
   "execution_count": 92,
   "metadata": {
    "scrolled": false
   },
   "outputs": [
    {
     "name": "stdout",
     "output_type": "stream",
     "text": [
      "   Viaje_Id  Usuario_Id Genero  Año_de_nacimiento     Inicio_del_viaje  \\\n",
      "0  26751198     1350606      M             1983.0  2023-01-01 00:00:41   \n",
      "1  26751199       15163      M             1986.0  2023-01-01 00:04:48   \n",
      "2  26751200     1534764      M             1987.0  2023-01-01 00:06:49   \n",
      "3  26751201     1240140      M             1996.0  2023-01-01 00:08:05   \n",
      "4  26751202     1732214      M             1969.0  2023-01-01 00:09:14   \n",
      "\n",
      "         Fin_del_viaje  Origen_Id  Destino_Id  A}äe_nacimiento  \n",
      "0  2023-01-01 00:26:52        154          50              NaN  \n",
      "1  2023-01-01 00:07:46         64          79              NaN  \n",
      "2  2023-01-01 00:17:36         35          12              NaN  \n",
      "3  2023-01-01 00:09:00         35          35              NaN  \n",
      "4  2023-01-01 00:14:57         54         171              NaN  \n"
     ]
    }
   ],
   "source": [
    "import pandas as pd\n",
    "import numpy as np\n",
    "import matplotlib.pyplot as plt\n",
    "#Creación de una Lista\n",
    "Mibici=['2023_01.csv','2023_02.csv','2023_03.csv','2023_04.csv','2023_05.csv','2023_06.csv']\n",
    "lista = []\n",
    "for num in Mibici:\n",
    "    lista.append(pd.read_csv(f'./Datos/{num}', encoding='latin-1')) \n",
    "DataBici=pd.concat(lista,ignore_index=True)\n",
    "print(DataBici.head())\n"
   ]
  },
  {
   "cell_type": "code",
   "execution_count": 93,
   "metadata": {},
   "outputs": [],
   "source": [
    "DataBici = DataBici.drop('A}äe_nacimiento', axis=1) #eliminando columna datos basura"
   ]
  },
  {
   "cell_type": "markdown",
   "metadata": {},
   "source": [
    "Despues  procedi a definir como el **Indice** del **DataFrame** a la columna *`ID Usuario`*, indicando que se haga un ordenamiento a través de la misma con el método `sort_index()`."
   ]
  },
  {
   "cell_type": "code",
   "execution_count": 94,
   "metadata": {},
   "outputs": [
    {
     "name": "stdout",
     "output_type": "stream",
     "text": [
      "            Viaje_Id Genero  Año_de_nacimiento     Inicio_del_viaje  \\\n",
      "Usuario_Id                                                            \n",
      "102         27962941      M             1982.0  2023-03-24 13:01:56   \n",
      "102         26910314      M             1982.0  2023-01-13 15:31:05   \n",
      "102         27047959      M             1982.0  2023-01-23 14:33:28   \n",
      "102         26847960      M             1982.0  2023-01-09 16:28:49   \n",
      "102         29222353      M             1982.0  2023-06-26 10:54:26   \n",
      "\n",
      "                  Fin_del_viaje  Origen_Id  Destino_Id  \n",
      "Usuario_Id                                              \n",
      "102         2023-03-24 13:02:17         64          64  \n",
      "102         2023-01-13 15:36:06         64          62  \n",
      "102         2023-01-23 14:33:39         61          61  \n",
      "102         2023-01-09 16:34:07         50          64  \n",
      "102         2023-06-26 10:59:44         62          64  \n"
     ]
    }
   ],
   "source": [
    "DataBici = DataBici.set_index('Usuario_Id').sort_index()\n",
    "print(DataBici.head())\n"
   ]
  },
  {
   "cell_type": "markdown",
   "metadata": {},
   "source": [
    "Se convirtieron las columnas: *`Fecha Inicio Viaje`* y *`Fecha Fin Viaje`* a formato de fecha y hora."
   ]
  },
  {
   "cell_type": "code",
   "execution_count": 95,
   "metadata": {},
   "outputs": [
    {
     "name": "stdout",
     "output_type": "stream",
     "text": [
      "            Viaje_Id Genero  Año_de_nacimiento     Inicio_del_viaje  \\\n",
      "Usuario_Id                                                            \n",
      "102         27962941      M             1982.0  2023-03-24 13:01:56   \n",
      "102         26910314      M             1982.0  2023-01-13 15:31:05   \n",
      "102         27047959      M             1982.0  2023-01-23 14:33:28   \n",
      "102         26847960      M             1982.0  2023-01-09 16:28:49   \n",
      "102         29222353      M             1982.0  2023-06-26 10:54:26   \n",
      "...              ...    ...                ...                  ...   \n",
      "2423454     29285405      F             1989.0  2023-06-30 17:21:42   \n",
      "2423454     29289364      F             1989.0  2023-06-30 21:28:29   \n",
      "2423454     29289564      F             1989.0  2023-06-30 21:52:21   \n",
      "2423462     29287451      F             2002.0  2023-06-30 19:12:20   \n",
      "2423462     29286124      F             2002.0  2023-06-30 18:04:46   \n",
      "\n",
      "                  Fin_del_viaje  Origen_Id  Destino_Id  Fecha Inicio Viaje  \\\n",
      "Usuario_Id                                                                   \n",
      "102         2023-03-24 13:02:17         64          64 2023-03-24 13:01:56   \n",
      "102         2023-01-13 15:36:06         64          62 2023-01-13 15:31:05   \n",
      "102         2023-01-23 14:33:39         61          61 2023-01-23 14:33:28   \n",
      "102         2023-01-09 16:34:07         50          64 2023-01-09 16:28:49   \n",
      "102         2023-06-26 10:59:44         62          64 2023-06-26 10:54:26   \n",
      "...                         ...        ...         ...                 ...   \n",
      "2423454     2023-06-30 17:40:42         61         249 2023-06-30 17:21:42   \n",
      "2423454     2023-06-30 21:51:36         88         249 2023-06-30 21:28:29   \n",
      "2423454     2023-06-30 22:25:26        249         285 2023-06-30 21:52:21   \n",
      "2423462     2023-06-30 19:20:10         64          51 2023-06-30 19:12:20   \n",
      "2423462     2023-06-30 18:16:33        184          20 2023-06-30 18:04:46   \n",
      "\n",
      "               Fecha Fin Viaje  \n",
      "Usuario_Id                      \n",
      "102        2023-03-24 13:02:17  \n",
      "102        2023-01-13 15:36:06  \n",
      "102        2023-01-23 14:33:39  \n",
      "102        2023-01-09 16:34:07  \n",
      "102        2023-06-26 10:59:44  \n",
      "...                        ...  \n",
      "2423454    2023-06-30 17:40:42  \n",
      "2423454    2023-06-30 21:51:36  \n",
      "2423454    2023-06-30 22:25:26  \n",
      "2423462    2023-06-30 19:20:10  \n",
      "2423462    2023-06-30 18:16:33  \n",
      "\n",
      "[2160648 rows x 9 columns]\n"
     ]
    }
   ],
   "source": [
    "DataBici[[\"Fecha Inicio Viaje\", \"Fecha Fin Viaje\"]] = DataBici[[\"Inicio_del_viaje\", \"Fin_del_viaje\"]].apply(pd.to_datetime)\n",
    "print(DataBici)"
   ]
  },
  {
   "cell_type": "markdown",
   "metadata": {},
   "source": [
    "Se muestran la cantidad de celdas que contienen valores nulos en el **DataFrame**"
   ]
  },
  {
   "cell_type": "code",
   "execution_count": 96,
   "metadata": {},
   "outputs": [
    {
     "name": "stdout",
     "output_type": "stream",
     "text": [
      "            Viaje_Id Genero  Año_de_nacimiento     Inicio_del_viaje  \\\n",
      "Usuario_Id                                                            \n",
      "102         28665491      M                NaN  2023-05-15 12:25:07   \n",
      "102         28780907      M                NaN  2023-05-23 15:33:34   \n",
      "102         28632896      M                NaN  2023-05-12 15:23:26   \n",
      "102         28337826      M                NaN  2023-04-21 10:35:26   \n",
      "102         28339163      M                NaN  2023-04-21 12:26:51   \n",
      "...              ...    ...                ...                  ...   \n",
      "2413171     29172743    NaN             1993.0  2023-06-22 07:23:22   \n",
      "2413171     29203476    NaN             1993.0  2023-06-24 11:11:19   \n",
      "2413171     29232933    NaN             1993.0  2023-06-27 06:24:23   \n",
      "2413171     29162596    NaN             1993.0  2023-06-21 13:18:15   \n",
      "2414445     29230331    NaN             1994.0  2023-06-26 19:51:25   \n",
      "\n",
      "                  Fin_del_viaje  Origen_Id  Destino_Id  Fecha Inicio Viaje  \\\n",
      "Usuario_Id                                                                   \n",
      "102         2023-05-15 12:31:02         75          64 2023-05-15 12:25:07   \n",
      "102         2023-05-23 15:41:51         64          62 2023-05-23 15:33:34   \n",
      "102         2023-05-12 15:28:18         64          62 2023-05-12 15:23:26   \n",
      "102         2023-04-21 10:42:38         64          67 2023-04-21 10:35:26   \n",
      "102         2023-04-21 12:32:04         67          65 2023-04-21 12:26:51   \n",
      "...                         ...        ...         ...                 ...   \n",
      "2413171     2023-06-22 07:43:26        158          19 2023-06-22 07:23:22   \n",
      "2413171     2023-06-24 11:26:16         19         271 2023-06-24 11:11:19   \n",
      "2413171     2023-06-27 06:46:21        158          19 2023-06-27 06:24:23   \n",
      "2413171     2023-06-21 13:56:25         19         171 2023-06-21 13:18:15   \n",
      "2414445     2023-06-26 20:00:29         54          79 2023-06-26 19:51:25   \n",
      "\n",
      "               Fecha Fin Viaje  \n",
      "Usuario_Id                      \n",
      "102        2023-05-15 12:31:02  \n",
      "102        2023-05-23 15:41:51  \n",
      "102        2023-05-12 15:28:18  \n",
      "102        2023-04-21 10:42:38  \n",
      "102        2023-04-21 12:32:04  \n",
      "...                        ...  \n",
      "2413171    2023-06-22 07:43:26  \n",
      "2413171    2023-06-24 11:26:16  \n",
      "2413171    2023-06-27 06:46:21  \n",
      "2413171    2023-06-21 13:56:25  \n",
      "2414445    2023-06-26 20:00:29  \n",
      "\n",
      "[707877 rows x 9 columns]\n"
     ]
    }
   ],
   "source": [
    "Nulos = DataBici[DataBici.isna().any(axis=1)]\n",
    "print(Nulos)"
   ]
  },
  {
   "cell_type": "markdown",
   "metadata": {},
   "source": [
    "Debido a que es necesario contar con la información completa para cada columna, es posible realizar la eliminación de los renglones que contienen valores nulos. El siguiente paso es eliminar esos renglones:"
   ]
  },
  {
   "cell_type": "code",
   "execution_count": 97,
   "metadata": {},
   "outputs": [
    {
     "name": "stdout",
     "output_type": "stream",
     "text": [
      "            Viaje_Id Genero  Año_de_nacimiento     Inicio_del_viaje  \\\n",
      "Usuario_Id                                                            \n",
      "102         27962941      M             1982.0  2023-03-24 13:01:56   \n",
      "102         26910314      M             1982.0  2023-01-13 15:31:05   \n",
      "102         27047959      M             1982.0  2023-01-23 14:33:28   \n",
      "102         26847960      M             1982.0  2023-01-09 16:28:49   \n",
      "102         29222353      M             1982.0  2023-06-26 10:54:26   \n",
      "...              ...    ...                ...                  ...   \n",
      "2423454     29285405      F             1989.0  2023-06-30 17:21:42   \n",
      "2423454     29289364      F             1989.0  2023-06-30 21:28:29   \n",
      "2423454     29289564      F             1989.0  2023-06-30 21:52:21   \n",
      "2423462     29287451      F             2002.0  2023-06-30 19:12:20   \n",
      "2423462     29286124      F             2002.0  2023-06-30 18:04:46   \n",
      "\n",
      "                  Fin_del_viaje  Origen_Id  Destino_Id  Fecha Inicio Viaje  \\\n",
      "Usuario_Id                                                                   \n",
      "102         2023-03-24 13:02:17         64          64 2023-03-24 13:01:56   \n",
      "102         2023-01-13 15:36:06         64          62 2023-01-13 15:31:05   \n",
      "102         2023-01-23 14:33:39         61          61 2023-01-23 14:33:28   \n",
      "102         2023-01-09 16:34:07         50          64 2023-01-09 16:28:49   \n",
      "102         2023-06-26 10:59:44         62          64 2023-06-26 10:54:26   \n",
      "...                         ...        ...         ...                 ...   \n",
      "2423454     2023-06-30 17:40:42         61         249 2023-06-30 17:21:42   \n",
      "2423454     2023-06-30 21:51:36         88         249 2023-06-30 21:28:29   \n",
      "2423454     2023-06-30 22:25:26        249         285 2023-06-30 21:52:21   \n",
      "2423462     2023-06-30 19:20:10         64          51 2023-06-30 19:12:20   \n",
      "2423462     2023-06-30 18:16:33        184          20 2023-06-30 18:04:46   \n",
      "\n",
      "               Fecha Fin Viaje  \n",
      "Usuario_Id                      \n",
      "102        2023-03-24 13:02:17  \n",
      "102        2023-01-13 15:36:06  \n",
      "102        2023-01-23 14:33:39  \n",
      "102        2023-01-09 16:34:07  \n",
      "102        2023-06-26 10:59:44  \n",
      "...                        ...  \n",
      "2423454    2023-06-30 17:40:42  \n",
      "2423454    2023-06-30 21:51:36  \n",
      "2423454    2023-06-30 22:25:26  \n",
      "2423462    2023-06-30 19:20:10  \n",
      "2423462    2023-06-30 18:16:33  \n",
      "\n",
      "[1452771 rows x 9 columns]\n"
     ]
    }
   ],
   "source": [
    "DataBici2 = DataBici.dropna()\n",
    "print(DataBici2)\n"
   ]
  },
  {
   "cell_type": "markdown",
   "metadata": {},
   "source": [
    "Se realiza un conteo de la cantidad de entradas (renglones) restantes que contiene el **DataFrame**, mostrando el resultado con la función `print()`:"
   ]
  },
  {
   "cell_type": "code",
   "execution_count": 98,
   "metadata": {},
   "outputs": [
    {
     "name": "stdout",
     "output_type": "stream",
     "text": [
      "El conteo total de renglones eliminando valores nulos es de: 1452771\n"
     ]
    }
   ],
   "source": [
    "Entradas=len(DataBici2.index)\n",
    "print(\"El conteo total de renglones eliminando valores nulos es de:\", Entradas)"
   ]
  },
  {
   "cell_type": "markdown",
   "metadata": {},
   "source": [
    "Se determina el valor de la media de la columna *`Año de Nacimiento`*. Con ello, se calcula la edad promedio (al 2023) de los usuarios, e imprimen ambos resultados (año promedio y edad promedio) con la función `print()`:"
   ]
  },
  {
   "cell_type": "code",
   "execution_count": 99,
   "metadata": {},
   "outputs": [
    {
     "name": "stdout",
     "output_type": "stream",
     "text": [
      "El Año promedio de nacimiento de los usuario es: 1989 y su edad promedio es de: 33\n"
     ]
    }
   ],
   "source": [
    "Media=DataBici2.loc[:, 'Año_de_nacimiento'].mean()\n",
    "Edad= 2023-Media\n",
    "print(\"El Año promedio de nacimiento de los usuario es:\",int(Media), \"y su edad promedio es de:\",int(Edad))\n"
   ]
  },
  {
   "cell_type": "markdown",
   "metadata": {},
   "source": [
    "Se realiza un Histograma del rango de usuarios según su *`Año de Nacimiento`* donde se pueda apreciar la distribución contenida en el **DataFrame**, agregando títulos a los ejes y al gráfico:"
   ]
  },
  {
   "cell_type": "code",
   "execution_count": 100,
   "metadata": {},
   "outputs": [
    {
     "data": {
      "image/png": "[encoded data removed]",
      "text/plain": [
       "<Figure size 432x288 with 1 Axes>"
      ]
     },
     "metadata": {
      "needs_background": "light"
     },
     "output_type": "display_data"
    }
   ],
   "source": [
    "hist= DataBici2.hist(column='Año_de_nacimiento')\n",
    "for axis in hist.flatten():\n",
    "    axis.set_xlabel(\"Año\")\n",
    "    axis.set_ylabel(\"Numero de personas\")"
   ]
  },
  {
   "cell_type": "markdown",
   "metadata": {},
   "source": [
    "A través de la columna *`ID Origen`* del **DataFrame**, determinar el valor de la *moda* para con ello definir la Estación de origen más utilizada, ey se imprime el número de ID de dicha estación. \n",
    "\n",
    "***Nota:*** Una alternativa sencilla es emplear el método `.mode()[0]` de **Pandas**."
   ]
  },
  {
   "cell_type": "code",
   "execution_count": 101,
   "metadata": {},
   "outputs": [
    {
     "name": "stdout",
     "output_type": "stream",
     "text": [
      "El ID de la estacion de origen mas visitada es: 51\n"
     ]
    }
   ],
   "source": [
    "moda= DataBici2['Origen_Id'].mode().iat[0]\n",
    "print(\"El ID de la estacion de origen mas visitada es:\",moda)"
   ]
  },
  {
   "cell_type": "markdown",
   "metadata": {},
   "source": [
    "A través de la columna *`ID Destino`* del **DataFrame**, se determina el valor de la *moda* para con ello definir la Estación de destino más utilizada, y se imprime el número de ID de dicha estación. \n"
   ]
  },
  {
   "cell_type": "code",
   "execution_count": 102,
   "metadata": {},
   "outputs": [
    {
     "name": "stdout",
     "output_type": "stream",
     "text": [
      "El ID de la estacion de destino mas visitada es: 51\n"
     ]
    }
   ],
   "source": [
    "modaD= DataBici2['Destino_Id'].mode().iat[0]\n",
    "print(\"El ID de la estacion de destino mas visitada es:\",int(modaD))"
   ]
  },
  {
   "cell_type": "markdown",
   "metadata": {},
   "source": [
    "Para identificar las Estaciones de origen y destino, se emplearán los datos del archivo `Estaciones.csv`. Para ello, se deberá realizar la lectura desde el archivo y asignar los datos a un nuevo **DataFrame**, cuyo **Indice** se debe definir por la columna *`ID`* y posteriormente mostrar su contenido con el método `.head()`."
   ]
  },
  {
   "cell_type": "code",
   "execution_count": 103,
   "metadata": {},
   "outputs": [
    {
     "name": "stdout",
     "output_type": "stream",
     "text": [
      "                            Nombre de la Estación ID Estación  \\\n",
      "ID                                                              \n",
      "2   (GDL-001) C. Epigmenio Glez./ Av. 16 de Sept.     GDL-001   \n",
      "3      (GDL-002) C. Colonias  / Av.  Niños Héroes     GDL-002   \n",
      "4           (GDL-003) C. Vidrio / Av. Chapultepec     GDL-003   \n",
      "5            (GDL-004) C. Ghilardi /C. Miraflores     GDL-004   \n",
      "6   (GDL-005) C. San Diego /Calzada Independencia     GDL-005   \n",
      "\n",
      "        Localización    Latitud    Longitud       Estado  \n",
      "ID                                                        \n",
      "2   Polígono Central  20.666378 -103.348820  En Servicio  \n",
      "3   Polígono Central  20.667228 -103.366000  En Servicio  \n",
      "4   Polígono Central  20.667690 -103.368252  En Servicio  \n",
      "5   Polígono Central  20.691750 -103.362550  En Servicio  \n",
      "6   Polígono Central  20.681151 -103.338863  En Servicio  \n"
     ]
    }
   ],
   "source": [
    "Estaciones=pd.read_csv(f'./Datos/Estaciones.csv')\n",
    "Estaciones = Estaciones.set_index('ID').sort_index()\n",
    "print(Estaciones.head())\n"
   ]
  },
  {
   "cell_type": "markdown",
   "metadata": {},
   "source": [
    "Para este caso la estacion mas visitada tanto de origen como destino es la numero 51, con el siguiente print podemos obtener dicha estacion:"
   ]
  },
  {
   "cell_type": "code",
   "execution_count": 110,
   "metadata": {},
   "outputs": [
    {
     "name": "stdout",
     "output_type": "stream",
     "text": [
      "Nombre de la Estación    (GDL-049) Lopez Cotilla/ Marcos Castellanos\n",
      "ID Estación                                                  GDL-049\n",
      "Localización                                        Polígono Central\n",
      "Latitud                                                    20.674087\n",
      "Longitud                                                  -103.35632\n",
      "Estado                                                   En Servicio\n",
      "Name: 51, dtype: object\n"
     ]
    }
   ],
   "source": [
    "print(Estaciones.loc[51])\n"
   ]
  },
  {
   "cell_type": "markdown",
   "metadata": {},
   "source": [
    "### Otro ejemplo practico\n",
    "#### Para este ejemplo se supone que se quiere ver el numero total de viajes por usuario, se realizarán tres acciones:\n",
    "- **a)** Crear una nueva columna de nombre *`Viaje`* la cual contendrá solamente valores iguales a 1.\n",
    "- **b)** Crear un nuevo **DataFrame** donde se copien las columnas *`Género`* (en este caso usaremos genero para la estadistica pero puede ser cual quier otra columna) y *`Viaje`*. Debido a que la columna *`ID Usuario`* es el índice, será parte del nuevo **DataFrame** también.\n",
    "- **c)** Agrupar este nuevo **DataFrame** por medio de las columnas *`Género`* y *`ID Usuario`* empleando el método `.groupby()`, agregando el método que realiza la suma de los valores `.sum()` el cual mostrará la cantidad de viajes de cada usuario."
   ]
  },
  {
   "cell_type": "code",
   "execution_count": 106,
   "metadata": {},
   "outputs": [
    {
     "name": "stderr",
     "output_type": "stream",
     "text": [
      "<ipython-input-106-f386c0318987>:2: SettingWithCopyWarning: \n",
      "A value is trying to be set on a copy of a slice from a DataFrame.\n",
      "Try using .loc[row_indexer,col_indexer] = value instead\n",
      "\n",
      "See the caveats in the documentation: https://pandas.pydata.org/pandas-docs/stable/user_guide/indexing.html#returning-a-view-versus-a-copy\n",
      "  DataBici2['Viaje']=1\n"
     ]
    },
    {
     "data": {
      "text/html": [
       "<div>\n",
       "<style scoped>\n",
       "    .dataframe tbody tr th:only-of-type {\n",
       "        vertical-align: middle;\n",
       "    }\n",
       "\n",
       "    .dataframe tbody tr th {\n",
       "        vertical-align: top;\n",
       "    }\n",
       "\n",
       "    .dataframe thead th {\n",
       "        text-align: right;\n",
       "    }\n",
       "</style>\n",
       "<table border=\"1\" class=\"dataframe\">\n",
       "  <thead>\n",
       "    <tr style=\"text-align: right;\">\n",
       "      <th></th>\n",
       "      <th></th>\n",
       "      <th>Viaje</th>\n",
       "    </tr>\n",
       "    <tr>\n",
       "      <th>Usuario_Id</th>\n",
       "      <th>Genero</th>\n",
       "      <th></th>\n",
       "    </tr>\n",
       "  </thead>\n",
       "  <tbody>\n",
       "    <tr>\n",
       "      <th>102</th>\n",
       "      <th>M</th>\n",
       "      <td>17</td>\n",
       "    </tr>\n",
       "    <tr>\n",
       "      <th>237</th>\n",
       "      <th>M</th>\n",
       "      <td>314</td>\n",
       "    </tr>\n",
       "    <tr>\n",
       "      <th>264</th>\n",
       "      <th>M</th>\n",
       "      <td>129</td>\n",
       "    </tr>\n",
       "    <tr>\n",
       "      <th>272</th>\n",
       "      <th>M</th>\n",
       "      <td>58</td>\n",
       "    </tr>\n",
       "    <tr>\n",
       "      <th>275</th>\n",
       "      <th>M</th>\n",
       "      <td>16</td>\n",
       "    </tr>\n",
       "    <tr>\n",
       "      <th>...</th>\n",
       "      <th>...</th>\n",
       "      <td>...</td>\n",
       "    </tr>\n",
       "    <tr>\n",
       "      <th>2423363</th>\n",
       "      <th>F</th>\n",
       "      <td>3</td>\n",
       "    </tr>\n",
       "    <tr>\n",
       "      <th>2423446</th>\n",
       "      <th>M</th>\n",
       "      <td>1</td>\n",
       "    </tr>\n",
       "    <tr>\n",
       "      <th>2423451</th>\n",
       "      <th>F</th>\n",
       "      <td>4</td>\n",
       "    </tr>\n",
       "    <tr>\n",
       "      <th>2423454</th>\n",
       "      <th>F</th>\n",
       "      <td>3</td>\n",
       "    </tr>\n",
       "    <tr>\n",
       "      <th>2423462</th>\n",
       "      <th>F</th>\n",
       "      <td>2</td>\n",
       "    </tr>\n",
       "  </tbody>\n",
       "</table>\n",
       "<p>21264 rows × 1 columns</p>\n",
       "</div>"
      ],
      "text/plain": [
       "                   Viaje\n",
       "Usuario_Id Genero       \n",
       "102        M          17\n",
       "237        M         314\n",
       "264        M         129\n",
       "272        M          58\n",
       "275        M          16\n",
       "...                  ...\n",
       "2423363    F           3\n",
       "2423446    M           1\n",
       "2423451    F           4\n",
       "2423454    F           3\n",
       "2423462    F           2\n",
       "\n",
       "[21264 rows x 1 columns]"
      ]
     },
     "execution_count": 106,
     "metadata": {},
     "output_type": "execute_result"
    }
   ],
   "source": [
    "# a)\n",
    "DataBici2['Viaje']=1\n",
    "DataBici2\n",
    "#b)\n",
    "DataBici3=DataBici2[['Genero','Viaje']].copy()\n",
    "DataBici3\n",
    "#C)  \n",
    "DataBici3.groupby(['Usuario_Id','Genero'])['Viaje'].sum().to_frame()"
   ]
  }
 ],
 "metadata": {
  "anaconda-cloud": {},
  "kernelspec": {
   "display_name": "Python 3",
   "language": "python",
   "name": "python3"
  },
  "language_info": {
   "codemirror_mode": {
    "name": "ipython",
    "version": 3
   },
   "file_extension": ".py",
   "mimetype": "text/x-python",
   "name": "python",
   "nbconvert_exporter": "python",
   "pygments_lexer": "ipython3",
   "version": "3.8.8"
  },
  "toc": {
   "nav_menu": {},
   "number_sections": true,
   "sideBar": true,
   "skip_h1_title": false,
   "toc_cell": false,
   "toc_position": {},
   "toc_section_display": "block",
   "toc_window_display": true
  }
 },
 "nbformat": 4,
 "nbformat_minor": 2
}
